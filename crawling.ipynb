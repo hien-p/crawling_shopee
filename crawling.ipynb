{
 "cells": [
  {
   "cell_type": "code",
   "execution_count": 93,
   "metadata": {},
   "outputs": [],
   "source": [
    "import pandas as pd\n",
    "import matplotlib.pyplot as plt"
   ]
  },
  {
   "cell_type": "code",
   "execution_count": 119,
   "metadata": {},
   "outputs": [
    {
     "data": {
      "text/html": [
       "<div>\n",
       "<style scoped>\n",
       "    .dataframe tbody tr th:only-of-type {\n",
       "        vertical-align: middle;\n",
       "    }\n",
       "\n",
       "    .dataframe tbody tr th {\n",
       "        vertical-align: top;\n",
       "    }\n",
       "\n",
       "    .dataframe thead th {\n",
       "        text-align: right;\n",
       "    }\n",
       "</style>\n",
       "<table border=\"1\" class=\"dataframe\">\n",
       "  <thead>\n",
       "    <tr style=\"text-align: right;\">\n",
       "      <th></th>\n",
       "      <th>ten san pham</th>\n",
       "      <th>total_count</th>\n",
       "      <th>Date</th>\n",
       "    </tr>\n",
       "  </thead>\n",
       "  <tbody>\n",
       "    <tr>\n",
       "      <th>0</th>\n",
       "      <td>Bao Tay Chơi Game ff, Pubg, Liên Quân.... Găng...</td>\n",
       "      <td>39337</td>\n",
       "      <td>Monday</td>\n",
       "    </tr>\n",
       "    <tr>\n",
       "      <th>1</th>\n",
       "      <td>Quạt tản nhiệt điện thoại sò lạnh MEMO DL05/FL...</td>\n",
       "      <td>20941</td>\n",
       "      <td>Monday</td>\n",
       "    </tr>\n",
       "    <tr>\n",
       "      <th>2</th>\n",
       "      <td>Miếng dán dẻo skin PPF tự phục hồi tr...</td>\n",
       "      <td>2466</td>\n",
       "      <td>Monday</td>\n",
       "    </tr>\n",
       "    <tr>\n",
       "      <th>3</th>\n",
       "      <td>Bộ lau giấy lau màn hình điện thoại, ipad, kín...</td>\n",
       "      <td>1373</td>\n",
       "      <td>Monday</td>\n",
       "    </tr>\n",
       "    <tr>\n",
       "      <th>4</th>\n",
       "      <td>Tai nghe Bluetooth AMOI F9 TWS 5.0 bản QUỐC TẾ...</td>\n",
       "      <td>9783</td>\n",
       "      <td>Monday</td>\n",
       "    </tr>\n",
       "  </tbody>\n",
       "</table>\n",
       "</div>"
      ],
      "text/plain": [
       "                                        ten san pham  total_count    Date\n",
       "0  Bao Tay Chơi Game ff, Pubg, Liên Quân.... Găng...        39337  Monday\n",
       "1  Quạt tản nhiệt điện thoại sò lạnh MEMO DL05/FL...        20941  Monday\n",
       "2  Miếng dán dẻo skin PPF tự phục hồi tr...         2466  Monday\n",
       "3  Bộ lau giấy lau màn hình điện thoại, ipad, kín...         1373  Monday\n",
       "4  Tai nghe Bluetooth AMOI F9 TWS 5.0 bản QUỐC TẾ...         9783  Monday"
      ]
     },
     "execution_count": 119,
     "metadata": {},
     "output_type": "execute_result"
    }
   ],
   "source": [
    "data = pd.read_csv('sanpham.csv')\n",
    "data_temp = data.drop(data.index[range(20,len(data))])\n",
    "data_week = data.drop(data.index[range(20)])\n",
    "data_week =data_week.reset_index(drop=True)\n",
    "data_week.head()"
   ]
  },
  {
   "cell_type": "code",
   "execution_count": 120,
   "metadata": {},
   "outputs": [],
   "source": [
    "def convert(list):\n",
    "      \n",
    "    # Converting integer list to string list\n",
    "    # and joining the list using join()\n",
    "    res = int(\"\".join(map(str, list)))\n",
    "      \n",
    "    return res"
   ]
  },
  {
   "cell_type": "code",
   "execution_count": 121,
   "metadata": {},
   "outputs": [
    {
     "data": {
      "text/plain": [
       "[1306, 1044]"
      ]
     },
     "execution_count": 121,
     "metadata": {},
     "output_type": "execute_result"
    }
   ],
   "source": [
    "#product_count_temp = data['total_count'][:20].values\n",
    "\n",
    "# monday \n",
    "product_monday = data_week.loc[data_week['Date'] == 'Monday']\n",
    "product_revenues = product_count_temp - product_monday['total_count'].values\n",
    "list_monday_product = product_revenues.tolist()\n",
    "sum_product_monday = int(product_revenues.sum())\n",
    "\n",
    "# tuesday \n",
    "product_tuesday = data_week.loc[data_week['Date'] == 'Tuesday']\n",
    "product_revenues = product_monday['total_count'].values - product_tuesday['total_count'].values\n",
    "list_tuesday_product = product_revenues.tolist()\n",
    "sum_product_tuesday = int(product_revenues.sum())\n",
    "\n",
    "totals = [sum_product_monday,sum_product_tuesday]\n",
    "totals"
   ]
  },
  {
   "cell_type": "code",
   "execution_count": 122,
   "metadata": {},
   "outputs": [
    {
     "data": {
      "image/png": "[encoded data removed]",
      "text/plain": [
       "<Figure size 640x480 with 1 Axes>"
      ]
     },
     "metadata": {},
     "output_type": "display_data"
    }
   ],
   "source": [
    "# graph \n",
    "from datetime import timedelta, date\n",
    "from collections import defaultdict\n",
    "from datetime import datetime\n",
    "def daterange(date1, date2):\n",
    "    for n in range(int ((date2 - date1).days)+1):\n",
    "        yield date1 + timedelta(n)\n",
    "\n",
    "start_dt = date(2022,10,9)\n",
    "end_dt = date(2022,10,15)\n",
    "list_weekend = [dt.strftime(\"%Y-%m-%d\") for dt in daterange(start_dt, end_dt)]\n",
    "daydate=['Monday', 'Tuesday', 'Wednesday', 'Thursday', 'Friday', 'Saturday','Sunday']\n",
    "daydates=['Monday', 'Tuesday']\n",
    "res = dict(zip(daydate, list_weekend))\n",
    "graph =  {'day': daydates,\n",
    "        'products': totals}\n",
    "df = pd.DataFrame(graph,columns=['day','products'])\n",
    "df.plot(x ='day', y='products',kind = 'bar')\n",
    "plt.show()"
   ]
  },
  {
   "cell_type": "code",
   "execution_count": null,
   "metadata": {},
   "outputs": [],
   "source": []
  },
  {
   "cell_type": "code",
   "execution_count": null,
   "metadata": {},
   "outputs": [],
   "source": []
  }
 ],
 "metadata": {
  "kernelspec": {
   "display_name": "Python 3 (ipykernel)",
   "language": "python",
   "name": "python3"
  },
  "language_info": {
   "codemirror_mode": {
    "name": "ipython",
    "version": 3
   },
   "file_extension": ".py",
   "mimetype": "text/x-python",
   "name": "python",
   "nbconvert_exporter": "python",
   "pygments_lexer": "ipython3",
   "version": "3.9.13"
  },
  "vscode": {
   "interpreter": {
    "hash": "916dbcbb3f70747c44a77c7bcd40155683ae19c65e1c03b4aa3499c5328201f1"
   }
  }
 },
 "nbformat": 4,
 "nbformat_minor": 2
}
